{
 "cells": [
  {
   "cell_type": "code",
   "execution_count": null,
   "metadata": {},
   "outputs": [],
   "source": [
    "#Q1 - a\n",
    "import pandas as pd\n",
    "prisoners_dataset = pd.read_csv('prisoners.csv')\n",
    "prisoners_dataset.head(5)\n",
    "prisoners_dataset.tail(5)"
   ]
  },
  {
   "cell_type": "code",
   "execution_count": null,
   "metadata": {},
   "outputs": [],
   "source": [
    "#Q1 - b\n",
    "prisoners_dataset.describe()\n",
    "#prisoners_dataset.loc[]"
   ]
  },
  {
   "cell_type": "code",
   "execution_count": null,
   "metadata": {},
   "outputs": [],
   "source": [
    "#Q2 - a\n",
    "import pandas as pd\n",
    "prisoners_dataset = pd.read_csv('prisoners.csv')\n",
    "prisoners_dataset['total_benefitted'] = sum([prisoners_dataset['No. of Inmates benefitted by Elementary Education'], prisoners_dataset['No. of Inmates benefitted by Adult Education'], prisoners_dataset['No. of Inmates benefitted by Higher Education'], prisoners_dataset['No. of Inmates benefitted by Computer Course']])\n",
    "prisoners_dataset"
   ]
  },
  {
   "cell_type": "code",
   "execution_count": null,
   "metadata": {},
   "outputs": [],
   "source": [
    "#Q2 - b\n",
    "import pandas as pd\n",
    "prisoners_dataset = pd.read_csv('prisoners.csv')\n",
    "prisoners_dataset = prisoners_dataset.drop(['STATE/UT', 'YEAR'], axis= 1)\n",
    "prisoners_dataset.loc['totals'] = prisoners_dataset.sum()\n",
    "prisoners_dataset"
   ]
  },
  {
   "cell_type": "code",
   "execution_count": null,
   "metadata": {},
   "outputs": [],
   "source": [
    "#Q3 - a\n",
    "import pandas as pd\n",
    "prisoners_dataset = pd.read_csv('prisoners.csv')\n",
    "prisoners_dataset['total_benefitted'] = sum([prisoners_dataset['No. of Inmates benefitted by Elementary Education'], prisoners_dataset['No. of Inmates benefitted by Adult Education'], prisoners_dataset['No. of Inmates benefitted by Higher Education'], prisoners_dataset['No. of Inmates benefitted by Computer Course']])\n",
    "prisoners_dataset\n",
    "\n",
    "import matplotlib.pyplot as plt\n",
    "plt.bar(prisoners_dataset['STATE/UT'], prisoners_dataset['total_benefitted'], label='Total Benefitted')\n",
    "plt.xlabel('State')\n",
    "plt.ylabel('Total Benefitted')\n",
    "plt.title('State vs Total Benefitted')\n",
    "plt.legend()\n",
    "plt.show()"
   ]
  },
  {
   "cell_type": "code",
   "execution_count": null,
   "metadata": {},
   "outputs": [],
   "source": [
    "#Q3 - b\n",
    "import pandas as pd\n",
    "prisoners_dataset = pd.read_csv('prisoners.csv')\n",
    "prisoners_dataset = prisoners_dataset.drop(['STATE/UT', 'YEAR'], axis= 1)\n",
    "prisoners_dataset\n",
    "\n",
    "import matplotlib.pyplot as plt\n",
    "y = ['No. of Inmates benefitted by Elementary Education','No. of Inmates benefitted by Adult Education','No. of Inmates benefitted by Higher Education','No. of Inmates benefitted by Computer Course']\n",
    "x = [prisoners_dataset['No. of Inmates benefitted by Elementary Education'].sum(), prisoners_dataset['No. of Inmates benefitted by Adult Education'].sum(), prisoners_dataset['No. of Inmates benefitted by Higher Education'].sum(), prisoners_dataset['No. of Inmates benefitted by Computer Course'].sum()]\n",
    "plt.pie(x, labels=y, startangle=90, shadow=True, counterclock = False, labeldistance=1.1, radius = 1.5, rotatelabels=True ,center=(0, 0), frame=None, explode=None, autopct='%.2f')\n",
    "plt.legend(loc='upper left', bbox_to_anchor=(0.5, 0.5))\n",
    "plt.show()"
   ]
  },
  {
   "cell_type": "code",
   "execution_count": null,
   "metadata": {},
   "outputs": [],
   "source": []
  }
 ],
 "metadata": {
  "kernelspec": {
   "display_name": "Python 3",
   "language": "python",
   "name": "python3"
  },
  "language_info": {
   "codemirror_mode": {
    "name": "ipython",
    "version": 3
   },
   "file_extension": ".py",
   "mimetype": "text/x-python",
   "name": "python",
   "nbconvert_exporter": "python",
   "pygments_lexer": "ipython3",
   "version": "3.6.5"
  }
 },
 "nbformat": 4,
 "nbformat_minor": 2
}
