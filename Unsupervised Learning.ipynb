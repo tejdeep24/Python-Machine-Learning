{
 "cells": [
  {
   "cell_type": "code",
   "execution_count": null,
   "metadata": {},
   "outputs": [],
   "source": [
    "#Q1\n",
    "%matplotlib inline\n",
    "from copy import deepcopy\n",
    "import numpy as np\n",
    "import pandas as pd\n",
    "from matplotlib import pyplot as plt\n",
    "plt.rcParams['figure.figsize'] = (16,9)\n",
    "plt.style.use('ggplot')\n",
    "#importing the dataset\n",
    "data = pd.read_csv('driver-data.csv')\n",
    "print (data.shape)\n",
    "print (data.head)\n",
    "print (data.columns)"
   ]
  },
  {
   "cell_type": "code",
   "execution_count": null,
   "metadata": {},
   "outputs": [],
   "source": [
    "#Getting the values and plotting it\n",
    "f1 = data['mean_dist_day'].values\n",
    "f2 = data['mean_over_speed_perc'].values\n",
    "X = np.array(list(zip(f1, f2)))\n",
    "plt.scatter(f1, f2, c = 'blue', s=50)"
   ]
  },
  {
   "cell_type": "code",
   "execution_count": null,
   "metadata": {},
   "outputs": [],
   "source": [
    "#Euclidean distance calculator\n",
    "def dist(a,b, ax =1):\n",
    "    return np.linalg.norm(a-b,axis = ax)\n",
    "#Number of clusters\n",
    "k =5\n",
    "#X coordinates of random centroids\n",
    "C_x = np.random.randint(0, np.max(X)-20, size = k)\n",
    "#Y coordinates of random centroids\n",
    "C_y = np.random.randint(0, np.max(X)-20, size = k)\n",
    "C = np.array(list(zip(C_x, C_y)),dtype = np.float32)\n",
    "print(C)"
   ]
  },
  {
   "cell_type": "code",
   "execution_count": null,
   "metadata": {},
   "outputs": [],
   "source": [
    "#plotting along with the Centroids\n",
    "plt.scatter(f1,f2, c = '#050505', s = 7)\n",
    "plt.scatter(C_x, C_y, marker ='*', s = 200, c = 'g')"
   ]
  },
  {
   "cell_type": "code",
   "execution_count": null,
   "metadata": {},
   "outputs": [],
   "source": [
    "# To store the value of centroids when it updates\n",
    "C_old = np.zeros(C.shape)\n",
    "# Cluster Lables(0, 1, 2)\n",
    "clusters = np.zeros(len(X))\n",
    "# Error func. - Distance between new centroids and old centroids\n",
    "error = dist(C, C_old, None)\n",
    "# Loop will run till the error becomes zero\n",
    "while error != 0:\n",
    "    # Assigning each value to its closest cluster\n",
    "    for i in range(len(X)):\n",
    "        distances = dist(X[i], C)\n",
    "        cluster = np.argmin(distances)\n",
    "        clusters[i] = cluster\n",
    "    # Storing the old centroid values\n",
    "    C_old = deepcopy(C)\n",
    "    # Finding the new centroids by taking the average value\n",
    "    for i in range(k):\n",
    "        points = [X[j] for j in range(len(X)) if clusters[j] == i]\n",
    "        C[i] = np.mean(points, axis=0)\n",
    "    error = dist(C, C_old, None)\n",
    "\n",
    "colors = ['r', 'g', 'b', 'y', 'c', 'm']\n",
    "fig, ax = plt.subplots()\n",
    "for i in range(k):\n",
    "        points = np.array([X[j] for j in range(len(X)) if clusters[j] == i])\n",
    "        ax.scatter(points[:, 0], points[:, 1], s=7, c=colors[i])\n",
    "ax.scatter(C[:, 0], C[:, 1], marker='*', s=200, c='#050505')"
   ]
  }
 ],
 "metadata": {
  "kernelspec": {
   "display_name": "Python 3",
   "language": "python",
   "name": "python3"
  },
  "language_info": {
   "codemirror_mode": {
    "name": "ipython",
    "version": 3
   },
   "file_extension": ".py",
   "mimetype": "text/x-python",
   "name": "python",
   "nbconvert_exporter": "python",
   "pygments_lexer": "ipython3",
   "version": "3.6.5"
  }
 },
 "nbformat": 4,
 "nbformat_minor": 2
}
